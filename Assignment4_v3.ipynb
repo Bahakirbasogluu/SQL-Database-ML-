{
 "cells": [
  {
   "cell_type": "markdown",
   "metadata": {
    "id": "32135f87"
   },
   "source": [
    "# Comparison of the performances of classification models\n",
    "\n",
    "Build kNN and logistic regression classifiers using sklearn library to predict \"satisfaction\" (**label** variable) by using given data. \n",
    "- First, shuffle and split your data into train, validation and test sets randomly, with a ratio of 70:10:20 **(10 points)**. \n",
    "- Build your models (with proper comments and explanations) using training set, and do parameter selection over the validation set  **(45 points)**. \n",
    "- Compare these 2 classification models according to their accuracies (you can print accuracy values in a single table as a comprehensive view) over the test set. Comment on their classification performance **(10 points)**.\n",
    "- Plot confusion matrices for your models over the test set, and comment on the outcomes **(15 points)**. \n",
    "- Finally, plot Precision-Recall (PR) curves for each classification model over the test set and evaluate the prediction performance of each classifier **(20 points)**. \n",
    "\n",
    "Notes:\n",
    "\n",
    "* Choose the optimal k value using Minkowski distance (with trying two different p-values) for kNN model using the validation set. \n",
    "\n",
    "\n",
    "* For any parameter selection, use the validation set.\n",
    "\n",
    "\n",
    "* Don't forget to add comments into your code lines to explain how your program works, your intentions behind it. Also, do not forget to comment on the outcomes and comparisons. "
   ]
  },
  {
   "cell_type": "code",
   "execution_count": 3,
   "metadata": {},
   "outputs": [],
   "source": [
    "#importing libraries \n",
    "import pandas as pd \n",
    "import numpy as np\n",
    "import matplotlib.pyplot as plt\n",
    "%matplotlib inline\n",
    "from sklearn.metrics import accuracy_score\n",
    "\n",
    "from sklearn.model_selection import cross_val_score, GridSearchCV\n",
    "from sklearn.linear_model import LogisticRegression\n",
    "from sklearn.tree import DecisionTreeClassifier\n",
    "from sklearn.ensemble import RandomForestClassifier\n",
    "\n",
    "from sklearn.neighbors import KNeighborsRegressor as KNN\n",
    "from sklearn.metrics import mean_squared_error as mse\n",
    "from math import sqrt\n",
    "from sklearn.neighbors import KNeighborsClassifier as KNC\n",
    "\n",
    "import warnings\n",
    "warnings.filterwarnings(\"ignore\")"
   ]
  },
  {
   "cell_type": "code",
   "execution_count": 4,
   "metadata": {},
   "outputs": [],
   "source": [
    "# Here this is the filling NaN datas with mean value of the column.\n",
    "df = pd.read_csv(\"data.csv\")\n",
    "df.fillna(df.mean(), inplace=True)"
   ]
  },
  {
   "cell_type": "code",
   "execution_count": 5,
   "metadata": {},
   "outputs": [],
   "source": [
    "#Here I split the data with common \"satisfaction\" column\n",
    "y = df[['satisfaction']]\n",
    "X = df.drop(columns='satisfaction', axis = 1,inplace= False)"
   ]
  },
  {
   "cell_type": "code",
   "execution_count": 6,
   "metadata": {},
   "outputs": [
    {
     "data": {
      "text/html": [
       "<div>\n",
       "<style scoped>\n",
       "    .dataframe tbody tr th:only-of-type {\n",
       "        vertical-align: middle;\n",
       "    }\n",
       "\n",
       "    .dataframe tbody tr th {\n",
       "        vertical-align: top;\n",
       "    }\n",
       "\n",
       "    .dataframe thead th {\n",
       "        text-align: right;\n",
       "    }\n",
       "</style>\n",
       "<table border=\"1\" class=\"dataframe\">\n",
       "  <thead>\n",
       "    <tr style=\"text-align: right;\">\n",
       "      <th></th>\n",
       "      <th>satisfaction</th>\n",
       "    </tr>\n",
       "  </thead>\n",
       "  <tbody>\n",
       "    <tr>\n",
       "      <th>0</th>\n",
       "      <td>satisfied</td>\n",
       "    </tr>\n",
       "    <tr>\n",
       "      <th>1</th>\n",
       "      <td>satisfied</td>\n",
       "    </tr>\n",
       "    <tr>\n",
       "      <th>2</th>\n",
       "      <td>satisfied</td>\n",
       "    </tr>\n",
       "    <tr>\n",
       "      <th>3</th>\n",
       "      <td>satisfied</td>\n",
       "    </tr>\n",
       "    <tr>\n",
       "      <th>4</th>\n",
       "      <td>satisfied</td>\n",
       "    </tr>\n",
       "    <tr>\n",
       "      <th>...</th>\n",
       "      <td>...</td>\n",
       "    </tr>\n",
       "    <tr>\n",
       "      <th>1730</th>\n",
       "      <td>satisfied</td>\n",
       "    </tr>\n",
       "    <tr>\n",
       "      <th>1731</th>\n",
       "      <td>satisfied</td>\n",
       "    </tr>\n",
       "    <tr>\n",
       "      <th>1732</th>\n",
       "      <td>satisfied</td>\n",
       "    </tr>\n",
       "    <tr>\n",
       "      <th>1733</th>\n",
       "      <td>satisfied</td>\n",
       "    </tr>\n",
       "    <tr>\n",
       "      <th>1734</th>\n",
       "      <td>satisfied</td>\n",
       "    </tr>\n",
       "  </tbody>\n",
       "</table>\n",
       "<p>1735 rows × 1 columns</p>\n",
       "</div>"
      ],
      "text/plain": [
       "     satisfaction\n",
       "0       satisfied\n",
       "1       satisfied\n",
       "2       satisfied\n",
       "3       satisfied\n",
       "4       satisfied\n",
       "...           ...\n",
       "1730    satisfied\n",
       "1731    satisfied\n",
       "1732    satisfied\n",
       "1733    satisfied\n",
       "1734    satisfied\n",
       "\n",
       "[1735 rows x 1 columns]"
      ]
     },
     "execution_count": 6,
     "metadata": {},
     "output_type": "execute_result"
    }
   ],
   "source": [
    "y"
   ]
  },
  {
   "cell_type": "code",
   "execution_count": 7,
   "metadata": {},
   "outputs": [
    {
     "data": {
      "text/plain": [
       "((1214, 22), (1214, 1), (173, 22), (173, 1), (348, 22), (348, 1))"
      ]
     },
     "execution_count": 7,
     "metadata": {},
     "output_type": "execute_result"
    }
   ],
   "source": [
    "# I import the train test validation split function\n",
    "# I split my data into train, validation and test sets randomly, with a ratio of 70:10:20 \n",
    "from sklearn.model_selection import train_test_split\n",
    "X_train, X_rem, y_train, y_rem = train_test_split(X,y, train_size=0.7, shuffle = True, stratify=y, random_state=1)\n",
    "X_valid, X_test, y_valid, y_test = train_test_split(X_rem,y_rem, test_size=(2/3), shuffle = True, random_state=1)\n",
    "X_train.shape, y_train.shape, X_valid.shape, y_valid.shape, X_test.shape, y_test.shape"
   ]
  },
  {
   "cell_type": "code",
   "execution_count": 8,
   "metadata": {},
   "outputs": [],
   "source": [
    "#Encoding Categorical Variables\n",
    "#Now, we shall have to encode \"gender,customer type, type of travel, class\"\n",
    "df2=df\n",
    "def create_dummies(df,column_name):\n",
    "    dummies = pd.get_dummies(df[column_name],prefix=column_name)\n",
    "    df = pd.concat([df,dummies],axis=1)\n",
    "    return df\n",
    "\n",
    "for column in ['Gender', 'Customer Type', 'Type of Travel', 'Class']:\n",
    "    X_train = create_dummies(X_train,column)\n",
    "    X_test = create_dummies(X_test,column)\n",
    "    X_valid = create_dummies(X_valid,column)\n",
    "    df2=create_dummies(df2,column)\n",
    "df2=create_dummies(df2, ['satisfaction'])\n"
   ]
  },
  {
   "cell_type": "code",
   "execution_count": 9,
   "metadata": {},
   "outputs": [],
   "source": [
    "#Dropping the string columns\n",
    "X_train.drop(['Gender', 'Customer Type', 'Type of Travel', 'Class'],inplace=True,axis=1)\n",
    "X_test.drop(['Gender', 'Customer Type', 'Type of Travel', 'Class'],inplace=True,axis=1)\n",
    "X_valid.drop(['Gender', 'Customer Type', 'Type of Travel', 'Class'], inplace=True, axis=1)\n",
    "df2.drop(['satisfaction','Gender', 'Customer Type', 'Type of Travel', 'Class'],inplace=True,axis=1)"
   ]
  },
  {
   "cell_type": "code",
   "execution_count": 10,
   "metadata": {},
   "outputs": [
    {
     "data": {
      "text/html": [
       "<div>\n",
       "<style scoped>\n",
       "    .dataframe tbody tr th:only-of-type {\n",
       "        vertical-align: middle;\n",
       "    }\n",
       "\n",
       "    .dataframe tbody tr th {\n",
       "        vertical-align: top;\n",
       "    }\n",
       "\n",
       "    .dataframe thead th {\n",
       "        text-align: right;\n",
       "    }\n",
       "</style>\n",
       "<table border=\"1\" class=\"dataframe\">\n",
       "  <thead>\n",
       "    <tr style=\"text-align: right;\">\n",
       "      <th></th>\n",
       "      <th>Age</th>\n",
       "      <th>Flight Distance</th>\n",
       "      <th>Seat comfort</th>\n",
       "      <th>Departure/Arrival time convenient</th>\n",
       "      <th>Food and drink</th>\n",
       "      <th>Gate location</th>\n",
       "      <th>Inflight wifi service</th>\n",
       "      <th>Inflight entertainment</th>\n",
       "      <th>Online support</th>\n",
       "      <th>Ease of Online booking</th>\n",
       "      <th>...</th>\n",
       "      <th>Gender_Male</th>\n",
       "      <th>Customer Type_Loyal Customer</th>\n",
       "      <th>Customer Type_disloyal Customer</th>\n",
       "      <th>Type of Travel_Business travel</th>\n",
       "      <th>Type of Travel_Personal Travel</th>\n",
       "      <th>Class_Business</th>\n",
       "      <th>Class_Eco</th>\n",
       "      <th>Class_Eco Plus</th>\n",
       "      <th>satisfaction_dissatisfied</th>\n",
       "      <th>satisfaction_satisfied</th>\n",
       "    </tr>\n",
       "  </thead>\n",
       "  <tbody>\n",
       "    <tr>\n",
       "      <th>0</th>\n",
       "      <td>65</td>\n",
       "      <td>265</td>\n",
       "      <td>0</td>\n",
       "      <td>0</td>\n",
       "      <td>0</td>\n",
       "      <td>2</td>\n",
       "      <td>2</td>\n",
       "      <td>4</td>\n",
       "      <td>2</td>\n",
       "      <td>3</td>\n",
       "      <td>...</td>\n",
       "      <td>0</td>\n",
       "      <td>1</td>\n",
       "      <td>0</td>\n",
       "      <td>0</td>\n",
       "      <td>1</td>\n",
       "      <td>0</td>\n",
       "      <td>1</td>\n",
       "      <td>0</td>\n",
       "      <td>0</td>\n",
       "      <td>1</td>\n",
       "    </tr>\n",
       "    <tr>\n",
       "      <th>1</th>\n",
       "      <td>47</td>\n",
       "      <td>2464</td>\n",
       "      <td>0</td>\n",
       "      <td>0</td>\n",
       "      <td>0</td>\n",
       "      <td>3</td>\n",
       "      <td>0</td>\n",
       "      <td>2</td>\n",
       "      <td>2</td>\n",
       "      <td>3</td>\n",
       "      <td>...</td>\n",
       "      <td>1</td>\n",
       "      <td>1</td>\n",
       "      <td>0</td>\n",
       "      <td>0</td>\n",
       "      <td>1</td>\n",
       "      <td>1</td>\n",
       "      <td>0</td>\n",
       "      <td>0</td>\n",
       "      <td>0</td>\n",
       "      <td>1</td>\n",
       "    </tr>\n",
       "    <tr>\n",
       "      <th>2</th>\n",
       "      <td>15</td>\n",
       "      <td>2138</td>\n",
       "      <td>0</td>\n",
       "      <td>0</td>\n",
       "      <td>0</td>\n",
       "      <td>3</td>\n",
       "      <td>2</td>\n",
       "      <td>0</td>\n",
       "      <td>2</td>\n",
       "      <td>2</td>\n",
       "      <td>...</td>\n",
       "      <td>0</td>\n",
       "      <td>1</td>\n",
       "      <td>0</td>\n",
       "      <td>0</td>\n",
       "      <td>1</td>\n",
       "      <td>0</td>\n",
       "      <td>1</td>\n",
       "      <td>0</td>\n",
       "      <td>0</td>\n",
       "      <td>1</td>\n",
       "    </tr>\n",
       "    <tr>\n",
       "      <th>3</th>\n",
       "      <td>60</td>\n",
       "      <td>623</td>\n",
       "      <td>0</td>\n",
       "      <td>0</td>\n",
       "      <td>0</td>\n",
       "      <td>3</td>\n",
       "      <td>3</td>\n",
       "      <td>4</td>\n",
       "      <td>3</td>\n",
       "      <td>1</td>\n",
       "      <td>...</td>\n",
       "      <td>0</td>\n",
       "      <td>1</td>\n",
       "      <td>0</td>\n",
       "      <td>0</td>\n",
       "      <td>1</td>\n",
       "      <td>0</td>\n",
       "      <td>1</td>\n",
       "      <td>0</td>\n",
       "      <td>0</td>\n",
       "      <td>1</td>\n",
       "    </tr>\n",
       "    <tr>\n",
       "      <th>4</th>\n",
       "      <td>70</td>\n",
       "      <td>354</td>\n",
       "      <td>0</td>\n",
       "      <td>0</td>\n",
       "      <td>0</td>\n",
       "      <td>3</td>\n",
       "      <td>4</td>\n",
       "      <td>3</td>\n",
       "      <td>4</td>\n",
       "      <td>2</td>\n",
       "      <td>...</td>\n",
       "      <td>0</td>\n",
       "      <td>1</td>\n",
       "      <td>0</td>\n",
       "      <td>0</td>\n",
       "      <td>1</td>\n",
       "      <td>0</td>\n",
       "      <td>1</td>\n",
       "      <td>0</td>\n",
       "      <td>0</td>\n",
       "      <td>1</td>\n",
       "    </tr>\n",
       "    <tr>\n",
       "      <th>...</th>\n",
       "      <td>...</td>\n",
       "      <td>...</td>\n",
       "      <td>...</td>\n",
       "      <td>...</td>\n",
       "      <td>...</td>\n",
       "      <td>...</td>\n",
       "      <td>...</td>\n",
       "      <td>...</td>\n",
       "      <td>...</td>\n",
       "      <td>...</td>\n",
       "      <td>...</td>\n",
       "      <td>...</td>\n",
       "      <td>...</td>\n",
       "      <td>...</td>\n",
       "      <td>...</td>\n",
       "      <td>...</td>\n",
       "      <td>...</td>\n",
       "      <td>...</td>\n",
       "      <td>...</td>\n",
       "      <td>...</td>\n",
       "      <td>...</td>\n",
       "    </tr>\n",
       "    <tr>\n",
       "      <th>1730</th>\n",
       "      <td>27</td>\n",
       "      <td>4471</td>\n",
       "      <td>2</td>\n",
       "      <td>2</td>\n",
       "      <td>5</td>\n",
       "      <td>2</td>\n",
       "      <td>4</td>\n",
       "      <td>4</td>\n",
       "      <td>4</td>\n",
       "      <td>4</td>\n",
       "      <td>...</td>\n",
       "      <td>1</td>\n",
       "      <td>1</td>\n",
       "      <td>0</td>\n",
       "      <td>1</td>\n",
       "      <td>0</td>\n",
       "      <td>1</td>\n",
       "      <td>0</td>\n",
       "      <td>0</td>\n",
       "      <td>0</td>\n",
       "      <td>1</td>\n",
       "    </tr>\n",
       "    <tr>\n",
       "      <th>1731</th>\n",
       "      <td>52</td>\n",
       "      <td>575</td>\n",
       "      <td>5</td>\n",
       "      <td>5</td>\n",
       "      <td>5</td>\n",
       "      <td>5</td>\n",
       "      <td>3</td>\n",
       "      <td>4</td>\n",
       "      <td>5</td>\n",
       "      <td>4</td>\n",
       "      <td>...</td>\n",
       "      <td>0</td>\n",
       "      <td>1</td>\n",
       "      <td>0</td>\n",
       "      <td>1</td>\n",
       "      <td>0</td>\n",
       "      <td>1</td>\n",
       "      <td>0</td>\n",
       "      <td>0</td>\n",
       "      <td>0</td>\n",
       "      <td>1</td>\n",
       "    </tr>\n",
       "    <tr>\n",
       "      <th>1732</th>\n",
       "      <td>51</td>\n",
       "      <td>578</td>\n",
       "      <td>3</td>\n",
       "      <td>3</td>\n",
       "      <td>3</td>\n",
       "      <td>3</td>\n",
       "      <td>3</td>\n",
       "      <td>5</td>\n",
       "      <td>3</td>\n",
       "      <td>4</td>\n",
       "      <td>...</td>\n",
       "      <td>0</td>\n",
       "      <td>1</td>\n",
       "      <td>0</td>\n",
       "      <td>1</td>\n",
       "      <td>0</td>\n",
       "      <td>1</td>\n",
       "      <td>0</td>\n",
       "      <td>0</td>\n",
       "      <td>0</td>\n",
       "      <td>1</td>\n",
       "    </tr>\n",
       "    <tr>\n",
       "      <th>1733</th>\n",
       "      <td>45</td>\n",
       "      <td>2083</td>\n",
       "      <td>1</td>\n",
       "      <td>1</td>\n",
       "      <td>1</td>\n",
       "      <td>1</td>\n",
       "      <td>4</td>\n",
       "      <td>5</td>\n",
       "      <td>4</td>\n",
       "      <td>4</td>\n",
       "      <td>...</td>\n",
       "      <td>0</td>\n",
       "      <td>1</td>\n",
       "      <td>0</td>\n",
       "      <td>1</td>\n",
       "      <td>0</td>\n",
       "      <td>1</td>\n",
       "      <td>0</td>\n",
       "      <td>0</td>\n",
       "      <td>0</td>\n",
       "      <td>1</td>\n",
       "    </tr>\n",
       "    <tr>\n",
       "      <th>1734</th>\n",
       "      <td>29</td>\n",
       "      <td>1924</td>\n",
       "      <td>2</td>\n",
       "      <td>2</td>\n",
       "      <td>2</td>\n",
       "      <td>2</td>\n",
       "      <td>4</td>\n",
       "      <td>4</td>\n",
       "      <td>4</td>\n",
       "      <td>4</td>\n",
       "      <td>...</td>\n",
       "      <td>0</td>\n",
       "      <td>1</td>\n",
       "      <td>0</td>\n",
       "      <td>1</td>\n",
       "      <td>0</td>\n",
       "      <td>1</td>\n",
       "      <td>0</td>\n",
       "      <td>0</td>\n",
       "      <td>0</td>\n",
       "      <td>1</td>\n",
       "    </tr>\n",
       "  </tbody>\n",
       "</table>\n",
       "<p>1735 rows × 29 columns</p>\n",
       "</div>"
      ],
      "text/plain": [
       "      Age  Flight Distance  Seat comfort  Departure/Arrival time convenient  \\\n",
       "0      65              265             0                                  0   \n",
       "1      47             2464             0                                  0   \n",
       "2      15             2138             0                                  0   \n",
       "3      60              623             0                                  0   \n",
       "4      70              354             0                                  0   \n",
       "...   ...              ...           ...                                ...   \n",
       "1730   27             4471             2                                  2   \n",
       "1731   52              575             5                                  5   \n",
       "1732   51              578             3                                  3   \n",
       "1733   45             2083             1                                  1   \n",
       "1734   29             1924             2                                  2   \n",
       "\n",
       "      Food and drink  Gate location  Inflight wifi service  \\\n",
       "0                  0              2                      2   \n",
       "1                  0              3                      0   \n",
       "2                  0              3                      2   \n",
       "3                  0              3                      3   \n",
       "4                  0              3                      4   \n",
       "...              ...            ...                    ...   \n",
       "1730               5              2                      4   \n",
       "1731               5              5                      3   \n",
       "1732               3              3                      3   \n",
       "1733               1              1                      4   \n",
       "1734               2              2                      4   \n",
       "\n",
       "      Inflight entertainment  Online support  Ease of Online booking  ...  \\\n",
       "0                          4               2                       3  ...   \n",
       "1                          2               2                       3  ...   \n",
       "2                          0               2                       2  ...   \n",
       "3                          4               3                       1  ...   \n",
       "4                          3               4                       2  ...   \n",
       "...                      ...             ...                     ...  ...   \n",
       "1730                       4               4                       4  ...   \n",
       "1731                       4               5                       4  ...   \n",
       "1732                       5               3                       4  ...   \n",
       "1733                       5               4                       4  ...   \n",
       "1734                       4               4                       4  ...   \n",
       "\n",
       "      Gender_Male  Customer Type_Loyal Customer  \\\n",
       "0               0                             1   \n",
       "1               1                             1   \n",
       "2               0                             1   \n",
       "3               0                             1   \n",
       "4               0                             1   \n",
       "...           ...                           ...   \n",
       "1730            1                             1   \n",
       "1731            0                             1   \n",
       "1732            0                             1   \n",
       "1733            0                             1   \n",
       "1734            0                             1   \n",
       "\n",
       "      Customer Type_disloyal Customer  Type of Travel_Business travel  \\\n",
       "0                                   0                               0   \n",
       "1                                   0                               0   \n",
       "2                                   0                               0   \n",
       "3                                   0                               0   \n",
       "4                                   0                               0   \n",
       "...                               ...                             ...   \n",
       "1730                                0                               1   \n",
       "1731                                0                               1   \n",
       "1732                                0                               1   \n",
       "1733                                0                               1   \n",
       "1734                                0                               1   \n",
       "\n",
       "      Type of Travel_Personal Travel  Class_Business  Class_Eco  \\\n",
       "0                                  1               0          1   \n",
       "1                                  1               1          0   \n",
       "2                                  1               0          1   \n",
       "3                                  1               0          1   \n",
       "4                                  1               0          1   \n",
       "...                              ...             ...        ...   \n",
       "1730                               0               1          0   \n",
       "1731                               0               1          0   \n",
       "1732                               0               1          0   \n",
       "1733                               0               1          0   \n",
       "1734                               0               1          0   \n",
       "\n",
       "      Class_Eco Plus  satisfaction_dissatisfied  satisfaction_satisfied  \n",
       "0                  0                          0                       1  \n",
       "1                  0                          0                       1  \n",
       "2                  0                          0                       1  \n",
       "3                  0                          0                       1  \n",
       "4                  0                          0                       1  \n",
       "...              ...                        ...                     ...  \n",
       "1730               0                          0                       1  \n",
       "1731               0                          0                       1  \n",
       "1732               0                          0                       1  \n",
       "1733               0                          0                       1  \n",
       "1734               0                          0                       1  \n",
       "\n",
       "[1735 rows x 29 columns]"
      ]
     },
     "execution_count": 10,
     "metadata": {},
     "output_type": "execute_result"
    }
   ],
   "source": [
    "df2"
   ]
  },
  {
   "cell_type": "code",
   "execution_count": 11,
   "metadata": {},
   "outputs": [
    {
     "data": {
      "text/plain": [
       "LogisticRegression()"
      ]
     },
     "execution_count": 11,
     "metadata": {},
     "output_type": "execute_result"
    }
   ],
   "source": [
    "#Logistic Regression Implementation\n",
    "lr = LogisticRegression()\n",
    "columns=['Age', 'Flight Distance', 'Seat comfort', 'Departure/Arrival time convenient', 'Food and drink', 'Gate location','Inflight wifi service', 'Inflight entertainment', 'Online support', 'Ease of Online booking', 'On-board service', 'Leg room service', 'Baggage handling', 'Checkin service', 'Cleanliness','Online boarding', 'Departure Delay in Minutes', 'Arrival Delay in Minutes' ]\n",
    "lr.fit(df[columns], df[\"satisfaction\"])"
   ]
  },
  {
   "cell_type": "code",
   "execution_count": 12,
   "metadata": {},
   "outputs": [
    {
     "name": "stdout",
     "output_type": "stream",
     "text": [
      "0.9826589595375722\n",
      "              precision    recall  f1-score   support\n",
      "\n",
      "dissatisfied       0.96      1.00      0.98        80\n",
      "   satisfied       1.00      0.97      0.98        93\n",
      "\n",
      "    accuracy                           0.98       173\n",
      "   macro avg       0.98      0.98      0.98       173\n",
      "weighted avg       0.98      0.98      0.98       173\n",
      "\n"
     ]
    }
   ],
   "source": [
    "#Creating a Validation set\n",
    "# I gonna make prediction and measure accuracy\n",
    "lr.fit(X_train, y_train)\n",
    "predictions = lr.predict(X_valid)\n",
    "accuracyLogReg = accuracy_score(y_valid, predictions)\n",
    "print(accuracyLogReg)\n",
    "from sklearn.metrics import classification_report\n",
    "print(classification_report(y_valid,predictions))"
   ]
  },
  {
   "cell_type": "code",
   "execution_count": 199,
   "metadata": {},
   "outputs": [
    {
     "name": "stdout",
     "output_type": "stream",
     "text": [
      "[0.96694215 0.96694215 0.97520661 0.97520661 0.98347107 0.98347107\n",
      " 0.98360656 0.98360656 0.99180328 0.99180328]\n",
      "Accuracy 0.9802059341552634\n"
     ]
    }
   ],
   "source": [
    "# In proccess logistic regression model\n",
    "# In this block I'm gonna print my scores and accuracy \n",
    "lr = LogisticRegression()\n",
    "scores = cross_val_score(lr, X_train, y_train, cv=10)\n",
    "scores.sort()\n",
    "accuracyLogReg = scores.mean()\n",
    "\n",
    "print(scores)\n",
    "print(\"Accuracy\", accuracyLogReg)"
   ]
  },
  {
   "cell_type": "code",
   "execution_count": 164,
   "metadata": {},
   "outputs": [],
   "source": [
    "# Fitting and predicting from train data to test data\n",
    "lr.fit(X_train,y_train)\n",
    "predictions_test = lr.predict(X_test)"
   ]
  },
  {
   "cell_type": "code",
   "execution_count": 165,
   "metadata": {},
   "outputs": [],
   "source": [
    "#KNN Implementation:\n",
    "## Importing the MinMax Scaler\n",
    "from sklearn.preprocessing import MinMaxScaler\n",
    "scaled = MinMaxScaler()\n",
    "#xler data2\n",
    "df2_scaled = scaled.fit_transform(df2)"
   ]
  },
  {
   "cell_type": "code",
   "execution_count": 166,
   "metadata": {},
   "outputs": [],
   "source": [
    "#Converting to dataframe df2 again\n",
    "df2 = pd.DataFrame(df2_scaled, columns = df2.columns)"
   ]
  },
  {
   "cell_type": "code",
   "execution_count": 167,
   "metadata": {},
   "outputs": [],
   "source": [
    "# I implement kNN Classifier\n",
    "# I import KNN classifier and metric F1score\n",
    "from sklearn.neighbors import KNeighborsClassifier as KNN\n",
    "from sklearn.metrics import f1_score"
   ]
  },
  {
   "cell_type": "code",
   "execution_count": 168,
   "metadata": {},
   "outputs": [
    {
     "name": "stdout",
     "output_type": "stream",
     "text": [
      "Test F1 Score     0.6494252873563219\n"
     ]
    }
   ],
   "source": [
    "#Here I'm using the function for splitting and adding columns to dataframe\n",
    "y_train = create_dummies(y_train,columns2)\n",
    "y_test = create_dummies(y_test,columns2)\n",
    "y_valid = create_dummies(y_valid,columns2)\n",
    "y_train.drop(['satisfaction'],inplace=True,axis=1)\n",
    "y_test.drop(['satisfaction'],inplace=True,axis=1)\n",
    "y_valid.drop(['satisfaction'], inplace=True, axis=1)\n",
    "\n",
    "\n",
    "# Creating instance of KNN\n",
    "clf = KNN(n_neighbors = 15)\n",
    "\n",
    "# Fitting the model\n",
    "clf.fit(X_train, y_train)\n",
    "\n",
    "# Predicting over the Train Set and calculating F1\n",
    "test_predict = clf.predict(X_test)\n",
    "k = f1_score(test_predict, y_test, average=\"micro\")\n",
    "print('Test F1 Score    ', k )"
   ]
  },
  {
   "cell_type": "code",
   "execution_count": 169,
   "metadata": {},
   "outputs": [],
   "source": [
    "#This is my Minkowski distances for p1-p2 \n",
    "def Elbow(arg, elist, mlist):\n",
    "    \n",
    "    Euclidean = KNN(n_neighbors = arg, p=2, metric=\"euclidean\")\n",
    "    Manhattan = KNN(n_neighbors = arg, p=1, metric = \"manhattan\")\n",
    "    \n",
    "    Euclidean.fit(X_train, y_train)\n",
    "    Manhattan.fit(X_train, y_train)\n",
    "    \n",
    "    EuclideanP = Euclidean.predict(X_valid)\n",
    "    ManhattanP = Manhattan.predict(X_valid)\n",
    "    \n",
    "    EuclideanError = mse(y_valid, EuclideanP)\n",
    "    ManhattanError = mse(y_valid, ManhattanP)\n",
    "    \n",
    "    elist.append(EuclideanError)\n",
    "    mlist.append(ManhattanError)\n",
    "    print(arg,\" Euclidean \",EuclideanError)\n",
    "    print(arg,\" Manhattan \",ManhattanError)"
   ]
  },
  {
   "cell_type": "code",
   "execution_count": 170,
   "metadata": {},
   "outputs": [
    {
     "name": "stdout",
     "output_type": "stream",
     "text": [
      "1  Euclidean  0.4161849710982659\n",
      "1  Manhattan  0.23121387283236994\n",
      "2  Euclidean  0.41907514450867056\n",
      "2  Manhattan  0.2658959537572254\n",
      "3  Euclidean  0.3699421965317919\n",
      "3  Manhattan  0.26011560693641617\n",
      "4  Euclidean  0.4104046242774566\n",
      "4  Manhattan  0.23121387283236994\n",
      "5  Euclidean  0.3988439306358382\n",
      "5  Manhattan  0.2138728323699422\n",
      "6  Euclidean  0.3872832369942196\n",
      "6  Manhattan  0.22254335260115607\n",
      "7  Euclidean  0.3872832369942196\n",
      "7  Manhattan  0.23121387283236994\n",
      "8  Euclidean  0.3901734104046243\n",
      "8  Manhattan  0.2167630057803468\n",
      "9  Euclidean  0.3815028901734104\n",
      "9  Manhattan  0.2138728323699422\n",
      "10  Euclidean  0.3959537572254335\n",
      "10  Manhattan  0.22832369942196531\n",
      "11  Euclidean  0.3988439306358382\n",
      "11  Manhattan  0.2254335260115607\n",
      "12  Euclidean  0.3988439306358381\n",
      "12  Manhattan  0.23410404624277456\n",
      "13  Euclidean  0.3988439306358382\n",
      "13  Manhattan  0.24277456647398843\n",
      "14  Euclidean  0.4161849710982659\n",
      "14  Manhattan  0.23410404624277456\n",
      "15  Euclidean  0.4161849710982659\n",
      "15  Manhattan  0.20809248554913296\n",
      "16  Euclidean  0.41907514450867056\n",
      "16  Manhattan  0.22254335260115607\n",
      "17  Euclidean  0.43352601156069365\n",
      "17  Manhattan  0.2254335260115607\n",
      "18  Euclidean  0.43063583815028905\n",
      "18  Manhattan  0.23699421965317918\n",
      "19  Euclidean  0.45664739884393063\n",
      "19  Manhattan  0.2254335260115607\n",
      "20  Euclidean  0.44797687861271673\n",
      "20  Manhattan  0.24277456647398843\n",
      "21  Euclidean  0.4393063583815029\n",
      "21  Manhattan  0.24277456647398843\n",
      "22  Euclidean  0.43063583815028905\n",
      "22  Manhattan  0.25144508670520227\n",
      "23  Euclidean  0.4508670520231214\n",
      "23  Manhattan  0.24855491329479767\n",
      "24  Euclidean  0.4277456647398844\n",
      "24  Manhattan  0.25144508670520227\n",
      "25  Euclidean  0.42196531791907516\n",
      "25  Manhattan  0.23699421965317918\n",
      "26  Euclidean  0.4277456647398844\n",
      "26  Manhattan  0.2398843930635838\n",
      "27  Euclidean  0.43352601156069365\n",
      "27  Manhattan  0.2254335260115607\n",
      "28  Euclidean  0.43641618497109824\n",
      "28  Manhattan  0.23699421965317918\n",
      "29  Euclidean  0.42196531791907516\n",
      "29  Manhattan  0.2543352601156069\n",
      "30  Euclidean  0.43641618497109824\n",
      "30  Manhattan  0.24277456647398843\n",
      "31  Euclidean  0.42196531791907516\n",
      "31  Manhattan  0.2254335260115607\n",
      "32  Euclidean  0.43063583815028905\n",
      "32  Manhattan  0.24277456647398843\n",
      "33  Euclidean  0.4277456647398844\n",
      "33  Manhattan  0.24855491329479767\n",
      "34  Euclidean  0.4161849710982659\n",
      "34  Manhattan  0.24566473988439305\n",
      "35  Euclidean  0.42196531791907516\n",
      "35  Manhattan  0.24855491329479767\n",
      "36  Euclidean  0.42196531791907516\n",
      "36  Manhattan  0.2658959537572254\n",
      "37  Euclidean  0.4277456647398844\n",
      "37  Manhattan  0.27167630057803466\n",
      "38  Euclidean  0.42485549132947975\n",
      "38  Manhattan  0.27167630057803466\n",
      "39  Euclidean  0.4277456647398844\n",
      "39  Manhattan  0.26011560693641617\n",
      "40  Euclidean  0.43063583815028905\n",
      "40  Manhattan  0.2658959537572254\n"
     ]
    }
   ],
   "source": [
    "#Here are error values for choosing the optimal k\n",
    "EuclideanErrorList = []\n",
    "ManhattanErrorList = []\n",
    "for i in range(1,41):\n",
    "    Elbow(i,EuclideanErrorList,ManhattanErrorList)"
   ]
  },
  {
   "cell_type": "code",
   "execution_count": 171,
   "metadata": {},
   "outputs": [
    {
     "data": {
      "text/plain": [
       "[<matplotlib.lines.Line2D at 0x144b885b5e0>]"
      ]
     },
     "execution_count": 171,
     "metadata": {},
     "output_type": "execute_result"
    },
    {
     "data": {
      "image/png": "[encoded data removed]",
      "text/plain": [
       "<Figure size 432x288 with 1 Axes>"
      ]
     },
     "metadata": {
      "needs_background": "light"
     },
     "output_type": "display_data"
    }
   ],
   "source": [
    "#Plotting and to see what is the conclusion in data\n",
    "#As I see k=15 is my optimal k value.\n",
    "plt.plot(range(1,41), ManhattanErrorList, color =\"black\")\n",
    "plt.plot(range(1,41), EuclideanErrorList, color =\"black\")\n"
   ]
  },
  {
   "cell_type": "code",
   "execution_count": 172,
   "metadata": {},
   "outputs": [
    {
     "name": "stdout",
     "output_type": "stream",
     "text": [
      "0.9971264367816092\n"
     ]
    }
   ],
   "source": [
    "#These are I import for accuracy score for knn model \n",
    "#Also seeing the confusion matrix in the next steps\n",
    "from sklearn import neighbors, datasets, preprocessing\n",
    "from sklearn.model_selection import train_test_split\n",
    "from sklearn.metrics import accuracy_score\n",
    "from sklearn.metrics import classification_report\n",
    "from sklearn.metrics import confusion_matrix\n",
    "\n",
    "scaler = preprocessing.StandardScaler().fit(X_train)\n",
    "X_train = scaler.transform(X_train)\n",
    "X_test = scaler.transform(X_test)\n",
    "\n",
    "knn = neighbors.KNeighborsClassifier(n_neighbors=3)\n",
    "knn.fit(X_train, y_train)\n",
    "y_pred = knn.predict(X_test)\n",
    "accuracyKNN = accuracy_score(y_test, y_pred)\n",
    "print(accuracy_score(y_test, y_pred))"
   ]
  },
  {
   "cell_type": "code",
   "execution_count": 173,
   "metadata": {},
   "outputs": [
    {
     "data": {
      "text/html": [
       "<div>\n",
       "<style scoped>\n",
       "    .dataframe tbody tr th:only-of-type {\n",
       "        vertical-align: middle;\n",
       "    }\n",
       "\n",
       "    .dataframe tbody tr th {\n",
       "        vertical-align: top;\n",
       "    }\n",
       "\n",
       "    .dataframe thead th {\n",
       "        text-align: right;\n",
       "    }\n",
       "</style>\n",
       "<table border=\"1\" class=\"dataframe\">\n",
       "  <thead>\n",
       "    <tr style=\"text-align: right;\">\n",
       "      <th></th>\n",
       "      <th>Model</th>\n",
       "      <th>Accuracy</th>\n",
       "    </tr>\n",
       "  </thead>\n",
       "  <tbody>\n",
       "    <tr>\n",
       "      <th>0</th>\n",
       "      <td>Accuracy of Logistic Regression</td>\n",
       "      <td>0.980206</td>\n",
       "    </tr>\n",
       "    <tr>\n",
       "      <th>1</th>\n",
       "      <td>Accuracy of KNN</td>\n",
       "      <td>0.997126</td>\n",
       "    </tr>\n",
       "  </tbody>\n",
       "</table>\n",
       "</div>"
      ],
      "text/plain": [
       "                             Model  Accuracy\n",
       "0  Accuracy of Logistic Regression  0.980206\n",
       "1                  Accuracy of KNN  0.997126"
      ]
     },
     "execution_count": 173,
     "metadata": {},
     "output_type": "execute_result"
    }
   ],
   "source": [
    "# This is the comparing accuracy scores of regression-knn in dataframe\n",
    "# As I see the Knn model is better from regression. Knn accuracy is closer to 1\n",
    "# Also they are so close to 1 their accuracy is very high and efficient.\n",
    "accuracyData = {'Model':[\"Accuracy of Logistic Regression\",\"Accuracy of KNN\"],'Accuracy':[accuracyLogReg, accuracyKNN]}\n",
    "accuracyDF = pd.DataFrame(accuracyData)\n",
    "accuracyDF"
   ]
  },
  {
   "cell_type": "code",
   "execution_count": 174,
   "metadata": {},
   "outputs": [],
   "source": [
    "# First step for confusion matrix\n",
    "pred_array = y_pred[:,1]\n",
    "(unique, counts) = np.unique(pred_array, return_counts=True)\n",
    "frequencies = np.asarray((unique, counts)).T"
   ]
  },
  {
   "cell_type": "code",
   "execution_count": 175,
   "metadata": {},
   "outputs": [
    {
     "data": {
      "text/plain": [
       "array([[169,   0],\n",
       "       [  1, 178]], dtype=int64)"
      ]
     },
     "execution_count": 175,
     "metadata": {},
     "output_type": "execute_result"
    }
   ],
   "source": [
    "#This is how many 0-1 in data, I see the confusion matrix info as array\n",
    "from sklearn.metrics import confusion_matrix\n",
    "cm=confusion_matrix(y_test['satisfaction_satisfied'], pred_array)\n",
    "cm"
   ]
  },
  {
   "cell_type": "code",
   "execution_count": 176,
   "metadata": {},
   "outputs": [
    {
     "data": {
      "image/png": "[encoded data removed]",
      "text/plain": [
       "<Figure size 1440x1440 with 2 Axes>"
      ]
     },
     "metadata": {
      "needs_background": "light"
     },
     "output_type": "display_data"
    }
   ],
   "source": [
    "# This is my plot to show as visual\n",
    "# Satisfied person is more then dissatisfied person. I can see the difference\n",
    "# I see true and predicted label \n",
    "import seaborn as sns\n",
    "plt.figure(figsize=(20,20))\n",
    "sentiment_classes = ['Unsatisfied','Satisfied' ]\n",
    "ax = sns.heatmap(cm, cmap = plt.cm.Reds, annot = True, fmt='d', \n",
    "            xticklabels=sentiment_classes,\n",
    "            yticklabels=sentiment_classes)\n",
    "plt.title('Confusion Matrix\\n', fontsize=20)\n",
    "plt.xlabel('\\nTrue Label', fontsize=20)\n",
    "plt.ylabel('Predicted Label\\n', fontsize=20)\n",
    "plt.show()"
   ]
  },
  {
   "cell_type": "code",
   "execution_count": 177,
   "metadata": {},
   "outputs": [],
   "source": [
    "#Finally, plot Precision-Recall (PR) curves for each classification model over the test set and evaluate the prediction performance of each classifier"
   ]
  },
  {
   "cell_type": "code",
   "execution_count": 178,
   "metadata": {},
   "outputs": [
    {
     "data": {
      "text/plain": [
       "Pipeline(steps=[('standardscaler', StandardScaler()),\n",
       "                ('linearsvc', LinearSVC(random_state=1))])"
      ]
     },
     "execution_count": 178,
     "metadata": {},
     "output_type": "execute_result"
    }
   ],
   "source": [
    "from sklearn.pipeline import make_pipeline\n",
    "from sklearn.preprocessing import StandardScaler\n",
    "from sklearn.svm import LinearSVC\n",
    "\n",
    "y_test_satisfied =  y_test[\"satisfaction_satisfied\"]\n",
    "y_test_dissatisfied =  y_test[\"satisfaction_dissatisfied\"]\n",
    "classifier = make_pipeline(StandardScaler(), LinearSVC(random_state=1))\n",
    "classifier.fit(X_test, y_test_dissatisfied)"
   ]
  },
  {
   "cell_type": "code",
   "execution_count": 179,
   "metadata": {},
   "outputs": [],
   "source": [
    "from sklearn.metrics import (precision_recall_curve,PrecisionRecallDisplay)\n",
    "precision, recall, _  = precision_recall_curve(y_test_satisfied, pred_array)"
   ]
  },
  {
   "cell_type": "code",
   "execution_count": 180,
   "metadata": {},
   "outputs": [],
   "source": [
    "disp = PrecisionRecallDisplay(precision=precision, recall=recall)"
   ]
  },
  {
   "cell_type": "code",
   "execution_count": 181,
   "metadata": {},
   "outputs": [
    {
     "data": {
      "image/png": "[encoded data removed]",
      "text/plain": [
       "<Figure size 432x288 with 1 Axes>"
      ]
     },
     "metadata": {
      "needs_background": "light"
     },
     "output_type": "display_data"
    }
   ],
   "source": [
    "#That's my graphs to show satisfied graph - which gives maybe true cause in the samples on the internet is like that\n",
    "disp.plot()\n",
    "plt.show()"
   ]
  },
  {
   "cell_type": "code",
   "execution_count": 184,
   "metadata": {},
   "outputs": [],
   "source": [
    "precision2, recall2, _  = precision_recall_curve(y_test_dissatisfied, pred_array)\n",
    "disp = PrecisionRecallDisplay(precision=precision2, recall=recall2)"
   ]
  },
  {
   "cell_type": "code",
   "execution_count": 185,
   "metadata": {},
   "outputs": [
    {
     "data": {
      "image/png": "[encoded data removed]",
      "text/plain": [
       "<Figure size 432x288 with 1 Axes>"
      ]
     },
     "metadata": {
      "needs_background": "light"
     },
     "output_type": "display_data"
    }
   ],
   "source": [
    "# There is the dissatisfied graph - the symmetric of satisfied graph\n",
    "disp.plot()\n",
    "plt.show()"
   ]
  }
 ],
 "metadata": {
  "colab": {
   "collapsed_sections": [],
   "name": "Assignment_4v2.ipynb",
   "provenance": []
  },
  "kernelspec": {
   "display_name": "Python 3",
   "language": "python",
   "name": "python3"
  },
  "language_info": {
   "codemirror_mode": {
    "name": "ipython",
    "version": 3
   },
   "file_extension": ".py",
   "mimetype": "text/x-python",
   "name": "python",
   "nbconvert_exporter": "python",
   "pygments_lexer": "ipython3",
   "version": "3.8.3"
  }
 },
 "nbformat": 4,
 "nbformat_minor": 5
}
